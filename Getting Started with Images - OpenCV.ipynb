{
 "cells": [
  {
   "cell_type": "markdown",
   "metadata": {},
   "source": [
    "# Getting Started with Images\n",
    "\n"
   ]
  },
  {
   "cell_type": "markdown",
   "metadata": {},
   "source": [
    "###### cv2.imread, cv2.imshow, cv2.imwrite\n",
    "\n"
   ]
  },
  {
   "cell_type": "markdown",
   "metadata": {},
   "source": [
    "### Reading an image - cv2.imread() "
   ]
  },
  {
   "cell_type": "markdown",
   "metadata": {
    "collapsed": false
   },
   "source": [
    "cv2.imread() has two arguments, one address of the image\n",
    "and the other as following arguments: (specifies the way image should\n",
    "be read)\n",
    "\n",
    "cv2.IMREAD_COLOR : loads a color image. Transparency of image is \n",
    "neglected, it is default flag. [Alternate : 1]\n",
    "\n",
    "cv2.IMREAD_GRAYSCALE : Loads image in grayscale mode. [Alternate : 0]\n",
    "\n",
    "cv2.IMREAD_UNCHANGED : Loads image such as including alpha channel.\n",
    "[Alternate : -1]"
   ]
  },
  {
   "cell_type": "code",
   "execution_count": 1,
   "metadata": {
    "collapsed": true
   },
   "outputs": [],
   "source": [
    "import numpy as np\n",
    "import cv2"
   ]
  },
  {
   "cell_type": "code",
   "execution_count": 2,
   "metadata": {
    "collapsed": false
   },
   "outputs": [
    {
     "name": "stdout",
     "output_type": "stream",
     "text": [
      "\u001b[0m\u001b[01;34mC++\u001b[0m/                                        tkinter12.py\r\n",
      "Drawing Functions in OpenCV.ipynb           tkinter_start.py\r\n",
      "\u001b[01;34mGeeksFG\u001b[0m/                                    ulem.sty\r\n",
      "Getting Started with Images - OpenCV.ipynb  UNIX Jupyter Example.ipynb\r\n",
      "Getting started with Python.ipynb           UNIX-Jupyter-Notebook-Example.ipynb\r\n",
      "\u001b[01;34mImgProc\u001b[0m/                                    Untitled10.ipynb\r\n",
      "Introducing Pandas.ipynb                    Untitled1.ipynb\r\n",
      "Introduction to Numpy.ipynb                 Untitled2.ipynb\r\n",
      "Introduction to Pandas.ipynb                Untitled3.ipynb\r\n",
      "Kush.png                                    Untitled4.ipynb\r\n",
      "Me1_gray.jpg                                Untitled5.ipynb\r\n",
      "Me1.jpg                                     Untitled6.ipynb\r\n",
      "Me1.png                                     Untitled7.ipynb\r\n",
      "president_heights.csv                       Untitled8.ipynb\r\n",
      "\u001b[01;34mPythonDataScienceHandbook-master\u001b[0m/           Untitled9.ipynb\r\n",
      "\u001b[01;34mpython-for-competitive-programming-master\u001b[0m/  Untitled.ipynb\r\n",
      "\u001b[01;34mPython-Lectures-master\u001b[0m/                     Untitled.pdf\r\n",
      "SMG.mp4                                     \u001b[01;34mWeek-3-Numpy\u001b[0m/\r\n",
      "startup.py\r\n"
     ]
    }
   ],
   "source": [
    "ls"
   ]
  },
  {
   "cell_type": "code",
   "execution_count": 3,
   "metadata": {
    "collapsed": false
   },
   "outputs": [],
   "source": [
    "file_adr = 'Me1.png'"
   ]
  },
  {
   "cell_type": "code",
   "execution_count": 4,
   "metadata": {
    "collapsed": false
   },
   "outputs": [],
   "source": [
    "img = cv2.imread(file_adr,cv2.IMREAD_GRAYSCALE) # Alternate- 0 cv2.IMREAD_GRAYSCALE - 0 \n",
    "cv2.imwrite('Me1_gray.jpg', img) # \n",
    "img2 = cv2.imread('Me1_gray.jpg', cv2.IMREAD_COLOR)"
   ]
  },
  {
   "cell_type": "markdown",
   "metadata": {},
   "source": [
    "### Showing an image - cv2.imshow()"
   ]
  },
  {
   "cell_type": "markdown",
   "metadata": {
    "collapsed": false
   },
   "source": [
    "To display an image in window, use cv2.imshow() \n",
    "\n",
    "Window automatically fits to image size.Two Arguments: \n",
    "1. Window name (string)\n",
    "\n",
    "2. Our image"
   ]
  },
  {
   "cell_type": "code",
   "execution_count": null,
   "metadata": {
    "collapsed": false
   },
   "outputs": [],
   "source": [
    "cv2.imshow('Image', img)\n",
    "cv2.waitKey(0)\n",
    "cv2.destroyAllWindows()"
   ]
  },
  {
   "cell_type": "markdown",
   "metadata": {
    "collapsed": false
   },
   "source": [
    "About cv2.waitKey() function:\n",
    "Keyboard binding function\tArgument in milliseconds\n",
    "\n",
    "If zero is passed, it waits indefinitely for a key stroke.\n",
    "\n",
    "About cv2.destroyAllWindows():\n",
    "Destroy all windows we created\n",
    "To destroy any specific window,\n",
    "use cv2.destroyWindow(), pass argument with window's name."
   ]
  },
  {
   "cell_type": "code",
   "execution_count": null,
   "metadata": {
    "collapsed": false
   },
   "outputs": [],
   "source": [
    "cv2.namedWindow('image', cv2.WINDOW_AUTOSIZE)\n",
    "cv2.imshow('Image', img)\n",
    "cv2.waitKey(5)\n",
    "cv2.destroyWindow('Image')\n",
    "\n",
    "cv2.waitKey?\n",
    "\n",
    "help(cv2.namedWindow)"
   ]
  },
  {
   "cell_type": "markdown",
   "metadata": {},
   "source": [
    "### Writing an Image"
   ]
  },
  {
   "cell_type": "markdown",
   "metadata": {
    "collapsed": false
   },
   "source": [
    "Use the function cv2.imwrite() to save an image.\n",
    "2 Arguments:\n",
    "\n",
    "1. First argument is file name\n",
    "2. Image you want to save"
   ]
  },
  {
   "cell_type": "code",
   "execution_count": 24,
   "metadata": {
    "collapsed": false
   },
   "outputs": [
    {
     "data": {
      "text/plain": [
       "True"
      ]
     },
     "execution_count": 24,
     "metadata": {},
     "output_type": "execute_result"
    }
   ],
   "source": [
    "cv2.imwrite('Me1.jpg', img)"
   ]
  },
  {
   "cell_type": "code",
   "execution_count": 25,
   "metadata": {
    "collapsed": false
   },
   "outputs": [],
   "source": [
    "import numpy as np\n",
    "import cv2\n",
    "\n",
    "img2 = cv2.imread('Me1.png', -1)\n",
    "cv2.imshow('IMAGE', img2)\n",
    "k = cv2.waitKey(0) & 0xFF\n",
    "if k == 27:\n",
    "    cv2.destroyAllWindows()\n",
    "elif k == ord('s'):\n",
    "    cv2.imwrite('Oh.png', img2)\n",
    "    cv2.destroyAllWindows()"
   ]
  },
  {
   "cell_type": "markdown",
   "metadata": {},
   "source": [
    "### Using matplotlib"
   ]
  },
  {
   "cell_type": "code",
   "execution_count": null,
   "metadata": {
    "collapsed": false
   },
   "outputs": [],
   "source": [
    "import numpy as np\n",
    "import cv2\n",
    "from matplotlib import pyplot as plt\n",
    "import seaborn; seaborn.set()\n",
    "img = cv2.imread('Me1.png',0)\n",
    "plt.imshow(img, cmap = 'gray', interpolation='bicubic')\n",
    "# plt.xticks([]), plt.yticks([]) # To hide tick values on x & y -axis\n",
    "plt.show()\n",
    "# 255, 255, 0 -  R G B"
   ]
  },
  {
   "cell_type": "markdown",
   "metadata": {
    "collapsed": false
   },
   "source": [
    "Color image loaded by OpenCV is in BGR Mode. Matplotlib displays\n",
    "in RGB mode"
   ]
  }
 ],
 "metadata": {
  "anaconda-cloud": {},
  "kernelspec": {
   "display_name": "Python [conda root]",
   "language": "python",
   "name": "conda-root-py"
  },
  "language_info": {
   "codemirror_mode": {
    "name": "ipython",
    "version": 3
   },
   "file_extension": ".py",
   "mimetype": "text/x-python",
   "name": "python",
   "nbconvert_exporter": "python",
   "pygments_lexer": "ipython3",
   "version": "3.5.2"
  }
 },
 "nbformat": 4,
 "nbformat_minor": 1
}
