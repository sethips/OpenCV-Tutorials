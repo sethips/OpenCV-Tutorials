{
 "cells": [
  {
   "cell_type": "code",
   "execution_count": 1,
   "metadata": {
    "collapsed": true
   },
   "outputs": [],
   "source": [
    "import numpy as np\n",
    "import cv2"
   ]
  },
  {
   "cell_type": "code",
   "execution_count": null,
   "metadata": {
    "collapsed": true
   },
   "outputs": [],
   "source": [
    "# cap = cv2.VideoCapture('/home/kushashwaravishrimali/Pictures/opencv_work/people-walking.mp4')\n",
    "cap = cv2.VideoCapture(0)\n",
    "# fgbg = cv2.createBackgroundSubtractorMOG2()\n",
    "fgbg = cv2.createBackgroundSubtractorKNN()\n",
    "while(cap.isOpened()):\n",
    "    ret, frame = cap.read()\n",
    "    \n",
    "    fgmask = fgbg.apply(frame)\n",
    "    \n",
    "    cv2.imshow('frame', frame)\n",
    "    cv2.imshow('fgmask', fgmask)\n",
    "    \n",
    "    k = cv2.waitKey(0) & 0xff\n",
    "    if k == 27:\n",
    "        break\n",
    "\n",
    "cap.release()\n",
    "cv2.destroyAllWindows()"
   ]
  },
  {
   "cell_type": "code",
   "execution_count": null,
   "metadata": {
    "collapsed": true
   },
   "outputs": [],
   "source": []
  }
 ],
 "metadata": {
  "kernelspec": {
   "display_name": "Python 3",
   "language": "python",
   "name": "python3"
  },
  "language_info": {
   "codemirror_mode": {
    "name": "ipython",
    "version": 3
   },
   "file_extension": ".py",
   "mimetype": "text/x-python",
   "name": "python",
   "nbconvert_exporter": "python",
   "pygments_lexer": "ipython3",
   "version": "3.6.1"
  }
 },
 "nbformat": 4,
 "nbformat_minor": 2
}
